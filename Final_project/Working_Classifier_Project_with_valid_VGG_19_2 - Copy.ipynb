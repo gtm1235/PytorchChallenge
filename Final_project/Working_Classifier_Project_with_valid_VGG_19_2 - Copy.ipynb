{
  "nbformat": 4,
  "nbformat_minor": 0,
  "metadata": {
    "colab": {
      "name": "Working Classifier Project - with valid - VGG-19-2.ipynb",
      "version": "0.3.2",
      "provenance": [],
      "collapsed_sections": [],
      "toc_visible": true
    },
    "kernelspec": {
      "name": "python3",
      "display_name": "Python 3"
    },
    "accelerator": "GPU"
  },
  "cells": [
    {
      "metadata": {
        "id": "pAAz9ViJOzeT",
        "colab_type": "text"
      },
      "cell_type": "markdown",
      "source": [
        "# Developing an AI application\n",
        "\n",
        "Going forward, AI algorithms will be incorporated into more and more everyday applications. For example, you might want to include an image classifier in a smart phone app. To do this, you'd use a deep learning model trained on hundreds of thousands of images as part of the overall application architecture. A large part of software development in the future will be using these types of models as common parts of applications. \n",
        "\n",
        "In this project, you'll train an image classifier to recognize different species of flowers. You can imagine using something like this in a phone app that tells you the name of the flower your camera is looking at. In practice you'd train this classifier, then export it for use in your application. We'll be using [this dataset](http://www.robots.ox.ac.uk/~vgg/data/flowers/102/index.html) of 102 flower categories, you can see a few examples below. \n",
        "\n",
        "<img src='assets/Flowers.png' width=500px>\n",
        "\n",
        "The project is broken down into multiple steps:\n",
        "\n",
        "* Load and preprocess the image dataset\n",
        "* Train the image classifier on your dataset\n",
        "* Use the trained classifier to predict image content\n",
        "\n",
        "We'll lead you through each part which you'll implement in Python.\n",
        "\n",
        "When you've completed this project, you'll have an application that can be trained on any set of labeled images. Here your network will be learning about flowers and end up as a command line application. But, what you do with your new skills depends on your imagination and effort in building a dataset. For example, imagine an app where you take a picture of a car, it tells you what the make and model is, then looks up information about it. Go build your own dataset and make something new.\n",
        "\n",
        "First up is importing the packages you'll need. It's good practice to keep all the imports at the beginning of your code. As you work through this notebook and find you need to import a package, make sure to add the import up here."
      ]
    },
    {
      "metadata": {
        "id": "7bUEoQ6BOzeV",
        "colab_type": "code",
        "outputId": "d906ce68-7686-4e8c-83db-7c6f4f1e3366",
        "colab": {
          "base_uri": "https://localhost:8080/",
          "height": 119
        }
      },
      "cell_type": "code",
      "source": [
        "# Imports here\n",
        "# http://pytorch.org/\n",
        "from os.path import exists\n",
        "from wheel.pep425tags import get_abbr_impl, get_impl_ver, get_abi_tag\n",
        "platform = '{}{}-{}'.format(get_abbr_impl(), get_impl_ver(), get_abi_tag())\n",
        "cuda_output = !ldconfig -p|grep cudart.so|sed -e 's/.*\\.\\([0-9]*\\)\\.\\([0-9]*\\)$/cu\\1\\2/'\n",
        "accelerator = cuda_output[0] if exists('/dev/nvidia0') else 'cpu'\n",
        "\n",
        "!pip install -q http://download.pytorch.org/whl/{accelerator}/torch-0.4.1-{platform}-linux_x86_64.whl torchvision\n",
        "!pip uninstall -y Pillow\n",
        "!pip install Pillow==5.3.0\n",
        "\n",
        "%matplotlib inline\n",
        "%config InlineBackend.figure_format = 'retina'\n",
        "import PIL\n",
        "\n",
        "import torch\n",
        "import torch.nn.functional as F\n",
        "from torch import nn\n",
        "from torch import optim\n",
        "from torchvision import datasets, transforms, models\n",
        "\n",
        "import matplotlib as plt\n",
        "\n",
        "import numpy as np\n",
        "\n",
        "\n",
        "\n"
      ],
      "execution_count": 0,
      "outputs": [
        {
          "output_type": "stream",
          "text": [
            "Uninstalling Pillow-5.3.0:\n",
            "  Successfully uninstalled Pillow-5.3.0\n",
            "Collecting Pillow==5.3.0\n",
            "  Using cached https://files.pythonhosted.org/packages/62/94/5430ebaa83f91cc7a9f687ff5238e26164a779cca2ef9903232268b0a318/Pillow-5.3.0-cp36-cp36m-manylinux1_x86_64.whl\n",
            "Installing collected packages: Pillow\n",
            "Successfully installed Pillow-5.3.0\n"
          ],
          "name": "stdout"
        }
      ]
    },
    {
      "metadata": {
        "id": "7pW8ecLXOzeX",
        "colab_type": "text"
      },
      "cell_type": "markdown",
      "source": [
        "## Load the data\n",
        "\n",
        "Here you'll use `torchvision` to load the data ([documentation](http://pytorch.org/docs/0.3.0/torchvision/index.html)). You can [download the data here](https://s3.amazonaws.com/content.udacity-data.com/courses/nd188/flower_data.zip). The dataset is split into two parts, training and validation. For the training, you'll want to apply transformations such as random scaling, cropping, and flipping. This will help the network generalize leading to better performance. If you use a pre-trained network, you'll also need to make sure the input data is resized to 224x224 pixels as required by the networks.\n",
        "\n",
        "The validation set is used to measure the model's performance on data it hasn't seen yet. For this you don't want any scaling or rotation transformations, but you'll need to resize then crop the images to the appropriate size.\n",
        "\n",
        "The pre-trained networks available from `torchvision` were trained on the ImageNet dataset where each color channel was normalized separately. For both sets you'll need to normalize the means and standard deviations of the images to what the network expects. For the means, it's `[0.485, 0.456, 0.406]` and for the standard deviations `[0.229, 0.224, 0.225]`, calculated from the ImageNet images.  These values will shift each color channel to be centered at 0 and range from -1 to 1."
      ]
    },
    {
      "metadata": {
        "id": "9lqISDIDRgU5",
        "colab_type": "code",
        "outputId": "aef74dea-f04d-4ea8-bf7c-78315dacf4b8",
        "colab": {
          "base_uri": "https://localhost:8080/",
          "height": 34
        }
      },
      "cell_type": "code",
      "source": [
        "device = torch.device(\"cuda\" if torch.cuda.is_available else \"cpu\")\n",
        "print(\"{} is available\".format(device))"
      ],
      "execution_count": 0,
      "outputs": [
        {
          "output_type": "stream",
          "text": [
            "cuda is available\n"
          ],
          "name": "stdout"
        }
      ]
    },
    {
      "metadata": {
        "id": "u11hYiQPQ_OZ",
        "colab_type": "code",
        "outputId": "999a5e59-9a11-498c-ec9d-12df7dce5a7a",
        "colab": {
          "base_uri": "https://localhost:8080/",
          "height": 34
        }
      },
      "cell_type": "code",
      "source": [
        "from google.colab import drive\n",
        "\n",
        "drive.mount('/content/drive')"
      ],
      "execution_count": 0,
      "outputs": [
        {
          "output_type": "stream",
          "text": [
            "Drive already mounted at /content/drive; to attempt to forcibly remount, call drive.mount(\"/content/drive\", force_remount=True).\n"
          ],
          "name": "stdout"
        }
      ]
    },
    {
      "metadata": {
        "id": "xBjXUoo8R9an",
        "colab_type": "code",
        "outputId": "84539877-b609-4251-b8cb-cbd401dd5e7c",
        "colab": {
          "base_uri": "https://localhost:8080/",
          "height": 34
        }
      },
      "cell_type": "code",
      "source": [
        "!ls \"/content/drive/My Drive/pytorch final/flower_data\""
      ],
      "execution_count": 0,
      "outputs": [
        {
          "output_type": "stream",
          "text": [
            "train  valid\n"
          ],
          "name": "stdout"
        }
      ]
    },
    {
      "metadata": {
        "id": "0XJDzQKrOzeY",
        "colab_type": "code",
        "colab": {}
      },
      "cell_type": "code",
      "source": [
        "data_dir = '/content/drive/My Drive/pytorch final/flower_data'\n",
        "train_dir = data_dir + '/train'\n",
        "valid_dir = data_dir + '/valid'"
      ],
      "execution_count": 0,
      "outputs": []
    },
    {
      "metadata": {
        "id": "_GuCjPjqOzea",
        "colab_type": "code",
        "colab": {}
      },
      "cell_type": "code",
      "source": [
        "# TODO: Define your transforms for the training and validation sets\n",
        "train_transforms = transforms.Compose([transforms.RandomRotation(15),\n",
        "                                      transforms.RandomResizedCrop(224),\n",
        "                                      transforms.RandomHorizontalFlip(),\n",
        "                                      transforms.ColorJitter(brightness=0.4,\n",
        "                                                             contrast=0.4,\n",
        "                                                             saturation = 0.4,\n",
        "                                                             hue=0.1),\n",
        "                                      transforms.ToTensor(),\n",
        "                                      transforms.Normalize([0.485, 0.456, 0.406],\n",
        "                                                          [0.229, 0.224, 0.225])])\n",
        "\n",
        "valid_transforms = transforms.Compose([transforms.Resize(255),\n",
        "                                      transforms.CenterCrop(224),\n",
        "                                      transforms.ToTensor(),\n",
        "                                      transforms.Normalize([0.485, 0.456, 0.406],\n",
        "                                                          [0.229, 0.224, 0.225])])\n",
        "\n",
        "\n",
        "# TODO: Load the datasets with ImageFolder\n",
        "train_data = datasets.ImageFolder(train_dir, transform=train_transforms)\n",
        "valid_data = datasets.ImageFolder(valid_dir, transform=valid_transforms)\n",
        "\n",
        "# TODO: Using the image datasets and the trainforms, define the dataloaders\n",
        "trainloader = torch.utils.data.DataLoader(train_data, batch_size=64, shuffle=True)\n",
        "validloader = torch.utils.data.DataLoader(valid_data, batch_size=64, shuffle=True)"
      ],
      "execution_count": 0,
      "outputs": []
    },
    {
      "metadata": {
        "id": "xogpIyuOWRGX",
        "colab_type": "code",
        "colab": {}
      },
      "cell_type": "code",
      "source": [
        ""
      ],
      "execution_count": 0,
      "outputs": []
    },
    {
      "metadata": {
        "id": "MlL4QYGFOzec",
        "colab_type": "text"
      },
      "cell_type": "markdown",
      "source": [
        "### Label mapping\n",
        "\n",
        "You'll also need to load in a mapping from category label to category name. You can find this in the file `cat_to_name.json`. It's a JSON object which you can read in with the [`json` module](https://docs.python.org/2/library/json.html). This will give you a dictionary mapping the integer encoded categories to the actual names of the flowers."
      ]
    },
    {
      "metadata": {
        "id": "ahJ7P3_xOzed",
        "colab_type": "code",
        "colab": {}
      },
      "cell_type": "code",
      "source": [
        "\n",
        "import json\n",
        "\n",
        "with open('/content/drive/My Drive/pytorch final/cat_to_name.json', 'r') as f:\n",
        "    cat_to_name = json.load(f)"
      ],
      "execution_count": 0,
      "outputs": []
    },
    {
      "metadata": {
        "id": "72hqDvDROzef",
        "colab_type": "text"
      },
      "cell_type": "markdown",
      "source": [
        "# Building and training the classifier\n",
        "\n",
        "Now that the data is ready, it's time to build and train the classifier. As usual, you should use one of the pretrained models from `torchvision.models` to get the image features. Build and train a new feed-forward classifier using those features.\n",
        "\n",
        "We're going to leave this part up to you. If you want to talk through it with someone, chat with your fellow students! You can also ask questions on the forums or join the instructors in office hours.\n",
        "\n",
        "Refer to [the rubric](https://review.udacity.com/#!/rubrics/1663/view) for guidance on successfully completing this section. Things you'll need to do:\n",
        "\n",
        "* Load a [pre-trained network](http://pytorch.org/docs/master/torchvision/models.html) (If you need a starting point, the VGG networks work great and are straightforward to use)\n",
        "* Define a new, untrained feed-forward network as a classifier, using ReLU activations and dropout\n",
        "* Train the classifier layers using backpropagation using the pre-trained network to get the features\n",
        "* Track the loss and accuracy on the validation set to determine the best hyperparameters\n",
        "\n",
        "We've left a cell open for you below, but use as many as you need. Our advice is to break the problem up into smaller parts you can run separately. Check that each part is doing what you expect, then move on to the next. You'll likely find that as you work through each part, you'll need to go back and modify your previous code. This is totally normal!\n",
        "\n",
        "When training make sure you're updating only the weights of the feed-forward network. You should be able to get the validation accuracy above 70% if you build everything right. Make sure to try different hyperparameters (learning rate, units in the classifier, epochs, etc) to find the best model. Save those hyperparameters to use as default values in the next part of the project."
      ]
    },
    {
      "metadata": {
        "id": "6Kn-4CfLOzeg",
        "colab_type": "code",
        "colab": {}
      },
      "cell_type": "code",
      "source": [
        "# TODO: Build and train your network\n",
        "model = models.vgg19(pretrained=True)\n",
        "\n"
      ],
      "execution_count": 0,
      "outputs": []
    },
    {
      "metadata": {
        "id": "Lkt6xPhYZu_r",
        "colab_type": "code",
        "outputId": "0a839207-fa20-499e-ab7c-4760dfcdeaec",
        "colab": {
          "base_uri": "https://localhost:8080/",
          "height": 867
        }
      },
      "cell_type": "code",
      "source": [
        "model\n"
      ],
      "execution_count": 0,
      "outputs": [
        {
          "output_type": "execute_result",
          "data": {
            "text/plain": [
              "VGG(\n",
              "  (features): Sequential(\n",
              "    (0): Conv2d(3, 64, kernel_size=(3, 3), stride=(1, 1), padding=(1, 1))\n",
              "    (1): ReLU(inplace)\n",
              "    (2): Conv2d(64, 64, kernel_size=(3, 3), stride=(1, 1), padding=(1, 1))\n",
              "    (3): ReLU(inplace)\n",
              "    (4): MaxPool2d(kernel_size=2, stride=2, padding=0, dilation=1, ceil_mode=False)\n",
              "    (5): Conv2d(64, 128, kernel_size=(3, 3), stride=(1, 1), padding=(1, 1))\n",
              "    (6): ReLU(inplace)\n",
              "    (7): Conv2d(128, 128, kernel_size=(3, 3), stride=(1, 1), padding=(1, 1))\n",
              "    (8): ReLU(inplace)\n",
              "    (9): MaxPool2d(kernel_size=2, stride=2, padding=0, dilation=1, ceil_mode=False)\n",
              "    (10): Conv2d(128, 256, kernel_size=(3, 3), stride=(1, 1), padding=(1, 1))\n",
              "    (11): ReLU(inplace)\n",
              "    (12): Conv2d(256, 256, kernel_size=(3, 3), stride=(1, 1), padding=(1, 1))\n",
              "    (13): ReLU(inplace)\n",
              "    (14): Conv2d(256, 256, kernel_size=(3, 3), stride=(1, 1), padding=(1, 1))\n",
              "    (15): ReLU(inplace)\n",
              "    (16): Conv2d(256, 256, kernel_size=(3, 3), stride=(1, 1), padding=(1, 1))\n",
              "    (17): ReLU(inplace)\n",
              "    (18): MaxPool2d(kernel_size=2, stride=2, padding=0, dilation=1, ceil_mode=False)\n",
              "    (19): Conv2d(256, 512, kernel_size=(3, 3), stride=(1, 1), padding=(1, 1))\n",
              "    (20): ReLU(inplace)\n",
              "    (21): Conv2d(512, 512, kernel_size=(3, 3), stride=(1, 1), padding=(1, 1))\n",
              "    (22): ReLU(inplace)\n",
              "    (23): Conv2d(512, 512, kernel_size=(3, 3), stride=(1, 1), padding=(1, 1))\n",
              "    (24): ReLU(inplace)\n",
              "    (25): Conv2d(512, 512, kernel_size=(3, 3), stride=(1, 1), padding=(1, 1))\n",
              "    (26): ReLU(inplace)\n",
              "    (27): MaxPool2d(kernel_size=2, stride=2, padding=0, dilation=1, ceil_mode=False)\n",
              "    (28): Conv2d(512, 512, kernel_size=(3, 3), stride=(1, 1), padding=(1, 1))\n",
              "    (29): ReLU(inplace)\n",
              "    (30): Conv2d(512, 512, kernel_size=(3, 3), stride=(1, 1), padding=(1, 1))\n",
              "    (31): ReLU(inplace)\n",
              "    (32): Conv2d(512, 512, kernel_size=(3, 3), stride=(1, 1), padding=(1, 1))\n",
              "    (33): ReLU(inplace)\n",
              "    (34): Conv2d(512, 512, kernel_size=(3, 3), stride=(1, 1), padding=(1, 1))\n",
              "    (35): ReLU(inplace)\n",
              "    (36): MaxPool2d(kernel_size=2, stride=2, padding=0, dilation=1, ceil_mode=False)\n",
              "  )\n",
              "  (classifier): Sequential(\n",
              "    (0): Linear(in_features=25088, out_features=4096, bias=True)\n",
              "    (1): ReLU(inplace)\n",
              "    (2): Dropout(p=0.5)\n",
              "    (3): Linear(in_features=4096, out_features=4096, bias=True)\n",
              "    (4): ReLU(inplace)\n",
              "    (5): Dropout(p=0.5)\n",
              "    (6): Linear(in_features=4096, out_features=1000, bias=True)\n",
              "  )\n",
              ")"
            ]
          },
          "metadata": {
            "tags": []
          },
          "execution_count": 17
        }
      ]
    },
    {
      "metadata": {
        "id": "8Lv_SURic-Dm",
        "colab_type": "code",
        "outputId": "57e6c89d-9694-4fd9-a010-c9d788558eb6",
        "colab": {
          "base_uri": "https://localhost:8080/",
          "height": 935
        }
      },
      "cell_type": "code",
      "source": [
        "for param in model.parameters():\n",
        "  param.requires_grad = False\n",
        "  \n",
        "from collections import OrderedDict\n",
        "classifier = nn.Sequential(OrderedDict([\n",
        "    ('hidden_1', nn.Linear(25088, 4096)),\n",
        "    ('relu1', nn.ReLU()),\n",
        "    ('dropout1', nn.Dropout(0.5)),\n",
        "    ('hidden_2', nn.Linear(4096, 1000)),\n",
        "    ('relu2', nn.ReLU()),\n",
        "    ('dropout_2', nn.Dropout(0.5)),\n",
        "    ('hidden_3', nn.Linear(1000, 256)),\n",
        "    ('relu3', nn.ReLU()),\n",
        "    ('dropout_3', nn.Dropout(0.5)),\n",
        "    ('hidden_4', nn.Linear(256, 102)),\n",
        "    ('output', nn.LogSoftmax(dim=1))\n",
        "]))\n",
        "\n",
        "model.classifier = classifier\n",
        "model"
      ],
      "execution_count": 0,
      "outputs": [
        {
          "output_type": "execute_result",
          "data": {
            "text/plain": [
              "VGG(\n",
              "  (features): Sequential(\n",
              "    (0): Conv2d(3, 64, kernel_size=(3, 3), stride=(1, 1), padding=(1, 1))\n",
              "    (1): ReLU(inplace)\n",
              "    (2): Conv2d(64, 64, kernel_size=(3, 3), stride=(1, 1), padding=(1, 1))\n",
              "    (3): ReLU(inplace)\n",
              "    (4): MaxPool2d(kernel_size=2, stride=2, padding=0, dilation=1, ceil_mode=False)\n",
              "    (5): Conv2d(64, 128, kernel_size=(3, 3), stride=(1, 1), padding=(1, 1))\n",
              "    (6): ReLU(inplace)\n",
              "    (7): Conv2d(128, 128, kernel_size=(3, 3), stride=(1, 1), padding=(1, 1))\n",
              "    (8): ReLU(inplace)\n",
              "    (9): MaxPool2d(kernel_size=2, stride=2, padding=0, dilation=1, ceil_mode=False)\n",
              "    (10): Conv2d(128, 256, kernel_size=(3, 3), stride=(1, 1), padding=(1, 1))\n",
              "    (11): ReLU(inplace)\n",
              "    (12): Conv2d(256, 256, kernel_size=(3, 3), stride=(1, 1), padding=(1, 1))\n",
              "    (13): ReLU(inplace)\n",
              "    (14): Conv2d(256, 256, kernel_size=(3, 3), stride=(1, 1), padding=(1, 1))\n",
              "    (15): ReLU(inplace)\n",
              "    (16): Conv2d(256, 256, kernel_size=(3, 3), stride=(1, 1), padding=(1, 1))\n",
              "    (17): ReLU(inplace)\n",
              "    (18): MaxPool2d(kernel_size=2, stride=2, padding=0, dilation=1, ceil_mode=False)\n",
              "    (19): Conv2d(256, 512, kernel_size=(3, 3), stride=(1, 1), padding=(1, 1))\n",
              "    (20): ReLU(inplace)\n",
              "    (21): Conv2d(512, 512, kernel_size=(3, 3), stride=(1, 1), padding=(1, 1))\n",
              "    (22): ReLU(inplace)\n",
              "    (23): Conv2d(512, 512, kernel_size=(3, 3), stride=(1, 1), padding=(1, 1))\n",
              "    (24): ReLU(inplace)\n",
              "    (25): Conv2d(512, 512, kernel_size=(3, 3), stride=(1, 1), padding=(1, 1))\n",
              "    (26): ReLU(inplace)\n",
              "    (27): MaxPool2d(kernel_size=2, stride=2, padding=0, dilation=1, ceil_mode=False)\n",
              "    (28): Conv2d(512, 512, kernel_size=(3, 3), stride=(1, 1), padding=(1, 1))\n",
              "    (29): ReLU(inplace)\n",
              "    (30): Conv2d(512, 512, kernel_size=(3, 3), stride=(1, 1), padding=(1, 1))\n",
              "    (31): ReLU(inplace)\n",
              "    (32): Conv2d(512, 512, kernel_size=(3, 3), stride=(1, 1), padding=(1, 1))\n",
              "    (33): ReLU(inplace)\n",
              "    (34): Conv2d(512, 512, kernel_size=(3, 3), stride=(1, 1), padding=(1, 1))\n",
              "    (35): ReLU(inplace)\n",
              "    (36): MaxPool2d(kernel_size=2, stride=2, padding=0, dilation=1, ceil_mode=False)\n",
              "  )\n",
              "  (classifier): Sequential(\n",
              "    (hidden_1): Linear(in_features=25088, out_features=4096, bias=True)\n",
              "    (relu1): ReLU()\n",
              "    (dropout1): Dropout(p=0.5)\n",
              "    (hidden_2): Linear(in_features=4096, out_features=1000, bias=True)\n",
              "    (relu2): ReLU()\n",
              "    (dropout_2): Dropout(p=0.5)\n",
              "    (hidden_3): Linear(in_features=1000, out_features=256, bias=True)\n",
              "    (relu3): ReLU()\n",
              "    (dropout_3): Dropout(p=0.5)\n",
              "    (hidden_4): Linear(in_features=256, out_features=102, bias=True)\n",
              "    (output): LogSoftmax()\n",
              "  )\n",
              ")"
            ]
          },
          "metadata": {
            "tags": []
          },
          "execution_count": 7
        }
      ]
    },
    {
      "metadata": {
        "id": "W8zyx74qeh8i",
        "colab_type": "code",
        "colab": {}
      },
      "cell_type": "code",
      "source": [
        "criterion = nn.NLLLoss()\n",
        "optimizer = optim.Adam(model.classifier.parameters(), lr=.0005)\n",
        "\n"
      ],
      "execution_count": 0,
      "outputs": []
    },
    {
      "metadata": {
        "id": "NNfezJF5f9pM",
        "colab_type": "code",
        "outputId": "7bf343df-624f-4d72-dc19-5b084d33c7e0",
        "colab": {
          "base_uri": "https://localhost:8080/",
          "height": 2312
        }
      },
      "cell_type": "code",
      "source": [
        "steps = 0\n",
        "running_loss = 0\n",
        "epochs = 50\n",
        "print_every = 40\n",
        "valid_loss_min = np.Inf\n",
        "for e in range(epochs):\n",
        "  model.train()\n",
        "  model.to(device)\n",
        "  counter = 0\n",
        "  for images, labels in trainloader:\n",
        "    steps += 1\n",
        "    images, labels = images.to(device), labels.to(device)\n",
        "    \n",
        "    optimizer.zero_grad()\n",
        "    \n",
        "    output = model.forward(images)\n",
        "    loss = criterion(output, labels)\n",
        "    loss.backward()\n",
        "    optimizer.step()\n",
        "    \n",
        "    running_loss += loss.item()\n",
        "    #print(counter)\n",
        "    #counter += 1\n",
        "    if steps % print_every == 0:\n",
        "      model.eval()\n",
        "      \n",
        "      \n",
        "      accuracy = 0\n",
        "      test_loss = 0\n",
        "      with torch.no_grad():\n",
        "        for images, labels in validloader:\n",
        "          images, labels = images.to(device), labels.to(device)\n",
        "        \n",
        "          output = model(images)\n",
        "          test_loss += criterion(output, labels).item()\n",
        "        \n",
        "          ps = torch.exp(output)\n",
        "          equality = (labels.data == ps.max(1)[1])\n",
        "          accuracy += equality.type_as(torch.FloatTensor()).mean()\n",
        "        \n",
        "      print(\"Epoch: {}/{}.. \".format(e+1, epochs),\n",
        "            \"Training Loss: {:.3f}.. \".format(running_loss/print_every),\n",
        "            \"Validation Loss: {:.3f}.. \".format(test_loss/len(validloader)),\n",
        "            \"Validation Accuracy: {:.3f}\".format(accuracy/len(validloader)))\n",
        "      \n",
        "      # save model if validation loss has decreased\n",
        "      valid_loss = test_loss/len(validloader)\n",
        "      \n",
        "      if valid_loss <= valid_loss_min:\n",
        "        \n",
        "        checkpoint = {'batch_size': 64,\n",
        "                      'valid_tansoforms': valid_transforms,\n",
        "                      'train_transforms': train_transforms,\n",
        "                      'model': model,\n",
        "                      'classifier': classifier,\n",
        "                      'criterion': criterion,\n",
        "                      'optimizer': optimizer.state_dict(),\n",
        "                      'state_dict': model.state_dict(),\n",
        "                      'class_to_idx': train_data.class_to_idx}\n",
        "        \n",
        "        print('Validation loss decreased ({:.6f} --> {:.6f}).  Saving model ...'.\n",
        "              format(valid_loss_min, valid_loss))\n",
        "        \n",
        "        torch.save(checkpoint,'/content/drive/My Drive/pytorch final/model_checkpoint.pth')\n",
        "        valid_loss_min = valid_loss\n",
        "      \n",
        "      running_loss = 0\n",
        "      model.train()\n",
        "        "
      ],
      "execution_count": 0,
      "outputs": [
        {
          "output_type": "stream",
          "text": [
            "Epoch: 1/50..  Training Loss: 4.525..  Validation Loss: 4.504..  Validation Accuracy: 0.026\n",
            "Validation loss decreased (inf --> 4.504419).  Saving model ...\n",
            "Epoch: 1/50..  Training Loss: 4.510..  Validation Loss: 4.503..  Validation Accuracy: 0.025\n",
            "Validation loss decreased (4.504419 --> 4.502707).  Saving model ...\n",
            "Epoch: 2/50..  Training Loss: 4.511..  Validation Loss: 4.502..  Validation Accuracy: 0.026\n",
            "Validation loss decreased (4.502707 --> 4.501873).  Saving model ...\n",
            "Epoch: 2/50..  Training Loss: 4.504..  Validation Loss: 4.504..  Validation Accuracy: 0.026\n",
            "Epoch: 2/50..  Training Loss: 4.516..  Validation Loss: 4.499..  Validation Accuracy: 0.034\n",
            "Validation loss decreased (4.501873 --> 4.498941).  Saving model ...\n",
            "Epoch: 3/50..  Training Loss: 4.552..  Validation Loss: 4.499..  Validation Accuracy: 0.026\n",
            "Epoch: 3/50..  Training Loss: 4.522..  Validation Loss: 4.500..  Validation Accuracy: 0.026\n",
            "Epoch: 4/50..  Training Loss: 4.527..  Validation Loss: 4.497..  Validation Accuracy: 0.034\n",
            "Validation loss decreased (4.498941 --> 4.497123).  Saving model ...\n",
            "Epoch: 4/50..  Training Loss: 4.519..  Validation Loss: 4.502..  Validation Accuracy: 0.034\n",
            "Epoch: 4/50..  Training Loss: 4.513..  Validation Loss: 4.498..  Validation Accuracy: 0.034\n",
            "Epoch: 5/50..  Training Loss: 4.518..  Validation Loss: 4.500..  Validation Accuracy: 0.034\n",
            "Epoch: 5/50..  Training Loss: 4.550..  Validation Loss: 4.500..  Validation Accuracy: 0.034\n",
            "Epoch: 6/50..  Training Loss: 4.512..  Validation Loss: 4.499..  Validation Accuracy: 0.035\n",
            "Epoch: 6/50..  Training Loss: 4.496..  Validation Loss: 4.501..  Validation Accuracy: 0.034\n",
            "Epoch: 6/50..  Training Loss: 4.522..  Validation Loss: 4.501..  Validation Accuracy: 0.034\n",
            "Epoch: 7/50..  Training Loss: 4.491..  Validation Loss: 4.498..  Validation Accuracy: 0.026\n",
            "Epoch: 7/50..  Training Loss: 4.578..  Validation Loss: 4.498..  Validation Accuracy: 0.025\n",
            "Epoch: 7/50..  Training Loss: 4.496..  Validation Loss: 4.499..  Validation Accuracy: 0.034\n",
            "Epoch: 8/50..  Training Loss: 4.498..  Validation Loss: 4.499..  Validation Accuracy: 0.034\n",
            "Epoch: 8/50..  Training Loss: 4.507..  Validation Loss: 4.501..  Validation Accuracy: 0.034\n",
            "Epoch: 9/50..  Training Loss: 4.567..  Validation Loss: 4.499..  Validation Accuracy: 0.034\n",
            "Epoch: 9/50..  Training Loss: 4.511..  Validation Loss: 4.502..  Validation Accuracy: 0.026\n",
            "Epoch: 9/50..  Training Loss: 4.503..  Validation Loss: 4.500..  Validation Accuracy: 0.035\n",
            "Epoch: 10/50..  Training Loss: 4.500..  Validation Loss: 4.501..  Validation Accuracy: 0.026\n",
            "Epoch: 10/50..  Training Loss: 4.597..  Validation Loss: 4.498..  Validation Accuracy: 0.035\n",
            "Epoch: 11/50..  Training Loss: 4.505..  Validation Loss: 4.499..  Validation Accuracy: 0.026\n",
            "Epoch: 11/50..  Training Loss: 4.516..  Validation Loss: 4.500..  Validation Accuracy: 0.026\n",
            "Epoch: 11/50..  Training Loss: 4.520..  Validation Loss: 4.500..  Validation Accuracy: 0.026\n",
            "Epoch: 12/50..  Training Loss: 4.515..  Validation Loss: 4.498..  Validation Accuracy: 0.026\n",
            "Epoch: 12/50..  Training Loss: 4.505..  Validation Loss: 4.498..  Validation Accuracy: 0.026\n",
            "Epoch: 13/50..  Training Loss: 4.501..  Validation Loss: 4.497..  Validation Accuracy: 0.035\n",
            "Epoch: 13/50..  Training Loss: 4.506..  Validation Loss: 4.499..  Validation Accuracy: 0.025\n",
            "Epoch: 13/50..  Training Loss: 4.501..  Validation Loss: 4.500..  Validation Accuracy: 0.034\n",
            "Epoch: 14/50..  Training Loss: 4.519..  Validation Loss: 4.498..  Validation Accuracy: 0.034\n",
            "Epoch: 14/50..  Training Loss: 4.546..  Validation Loss: 4.502..  Validation Accuracy: 0.034\n",
            "Epoch: 14/50..  Training Loss: 4.514..  Validation Loss: 4.496..  Validation Accuracy: 0.034\n",
            "Validation loss decreased (4.497123 --> 4.495964).  Saving model ...\n",
            "Epoch: 15/50..  Training Loss: 4.537..  Validation Loss: 4.497..  Validation Accuracy: 0.034\n",
            "Epoch: 15/50..  Training Loss: 4.511..  Validation Loss: 4.500..  Validation Accuracy: 0.026\n",
            "Epoch: 16/50..  Training Loss: 4.498..  Validation Loss: 4.498..  Validation Accuracy: 0.025\n",
            "Epoch: 16/50..  Training Loss: 4.505..  Validation Loss: 4.501..  Validation Accuracy: 0.034\n",
            "Epoch: 16/50..  Training Loss: 4.510..  Validation Loss: 4.496..  Validation Accuracy: 0.034\n",
            "Epoch: 17/50..  Training Loss: 4.506..  Validation Loss: 4.503..  Validation Accuracy: 0.025\n",
            "Epoch: 17/50..  Training Loss: 4.523..  Validation Loss: 4.504..  Validation Accuracy: 0.026\n",
            "Epoch: 18/50..  Training Loss: 4.513..  Validation Loss: 4.499..  Validation Accuracy: 0.034\n",
            "Epoch: 18/50..  Training Loss: 4.502..  Validation Loss: 4.498..  Validation Accuracy: 0.034\n",
            "Epoch: 18/50..  Training Loss: 4.508..  Validation Loss: 4.498..  Validation Accuracy: 0.035\n",
            "Epoch: 19/50..  Training Loss: 4.495..  Validation Loss: 4.500..  Validation Accuracy: 0.026\n",
            "Epoch: 19/50..  Training Loss: 4.498..  Validation Loss: 4.501..  Validation Accuracy: 0.026\n",
            "Epoch: 20/50..  Training Loss: 4.513..  Validation Loss: 4.497..  Validation Accuracy: 0.034\n",
            "Epoch: 20/50..  Training Loss: 4.501..  Validation Loss: 4.500..  Validation Accuracy: 0.034\n",
            "Epoch: 20/50..  Training Loss: 4.508..  Validation Loss: 4.502..  Validation Accuracy: 0.026\n",
            "Epoch: 21/50..  Training Loss: 4.524..  Validation Loss: 4.499..  Validation Accuracy: 0.025\n",
            "Epoch: 21/50..  Training Loss: 4.504..  Validation Loss: 4.504..  Validation Accuracy: 0.026\n",
            "Epoch: 21/50..  Training Loss: 4.591..  Validation Loss: 4.500..  Validation Accuracy: 0.034\n",
            "Epoch: 22/50..  Training Loss: 4.494..  Validation Loss: 4.500..  Validation Accuracy: 0.034\n",
            "Epoch: 22/50..  Training Loss: 4.507..  Validation Loss: 4.500..  Validation Accuracy: 0.034\n",
            "Epoch: 23/50..  Training Loss: 4.517..  Validation Loss: 4.498..  Validation Accuracy: 0.026\n",
            "Epoch: 23/50..  Training Loss: 4.507..  Validation Loss: 4.498..  Validation Accuracy: 0.025\n",
            "Epoch: 23/50..  Training Loss: 4.608..  Validation Loss: 4.502..  Validation Accuracy: 0.025\n",
            "Epoch: 24/50..  Training Loss: 4.520..  Validation Loss: 4.501..  Validation Accuracy: 0.034\n",
            "Epoch: 24/50..  Training Loss: 4.491..  Validation Loss: 4.498..  Validation Accuracy: 0.025\n",
            "Epoch: 25/50..  Training Loss: 4.501..  Validation Loss: 4.499..  Validation Accuracy: 0.034\n",
            "Epoch: 25/50..  Training Loss: 4.505..  Validation Loss: 4.503..  Validation Accuracy: 0.034\n",
            "Epoch: 25/50..  Training Loss: 4.520..  Validation Loss: 4.501..  Validation Accuracy: 0.034\n",
            "Epoch: 26/50..  Training Loss: 4.502..  Validation Loss: 4.496..  Validation Accuracy: 0.026\n",
            "Epoch: 26/50..  Training Loss: 4.504..  Validation Loss: 4.494..  Validation Accuracy: 0.026\n",
            "Validation loss decreased (4.495964 --> 4.494061).  Saving model ...\n",
            "Epoch: 27/50..  Training Loss: 4.517..  Validation Loss: 4.498..  Validation Accuracy: 0.025\n",
            "Epoch: 27/50..  Training Loss: 4.514..  Validation Loss: 4.495..  Validation Accuracy: 0.026\n",
            "Epoch: 27/50..  Training Loss: 4.502..  Validation Loss: 4.501..  Validation Accuracy: 0.026\n",
            "Epoch: 28/50..  Training Loss: 4.498..  Validation Loss: 4.500..  Validation Accuracy: 0.034\n",
            "Epoch: 28/50..  Training Loss: 4.502..  Validation Loss: 4.499..  Validation Accuracy: 0.034\n",
            "Epoch: 28/50..  Training Loss: 4.505..  Validation Loss: 4.499..  Validation Accuracy: 0.025\n",
            "Epoch: 29/50..  Training Loss: 4.515..  Validation Loss: 4.501..  Validation Accuracy: 0.034\n",
            "Epoch: 29/50..  Training Loss: 4.508..  Validation Loss: 4.498..  Validation Accuracy: 0.025\n",
            "Epoch: 30/50..  Training Loss: 4.505..  Validation Loss: 4.500..  Validation Accuracy: 0.034\n",
            "Epoch: 30/50..  Training Loss: 4.531..  Validation Loss: 4.502..  Validation Accuracy: 0.034\n",
            "Epoch: 30/50..  Training Loss: 4.545..  Validation Loss: 4.501..  Validation Accuracy: 0.034\n",
            "Epoch: 31/50..  Training Loss: 4.500..  Validation Loss: 4.499..  Validation Accuracy: 0.026\n",
            "Epoch: 31/50..  Training Loss: 4.497..  Validation Loss: 4.499..  Validation Accuracy: 0.034\n",
            "Epoch: 32/50..  Training Loss: 4.509..  Validation Loss: 4.500..  Validation Accuracy: 0.026\n",
            "Epoch: 32/50..  Training Loss: 4.513..  Validation Loss: 4.499..  Validation Accuracy: 0.035\n",
            "Epoch: 32/50..  Training Loss: 4.502..  Validation Loss: 4.498..  Validation Accuracy: 0.026\n",
            "Epoch: 33/50..  Training Loss: 4.502..  Validation Loss: 4.500..  Validation Accuracy: 0.034\n",
            "Epoch: 33/50..  Training Loss: 4.504..  Validation Loss: 4.500..  Validation Accuracy: 0.034\n",
            "Epoch: 34/50..  Training Loss: 4.503..  Validation Loss: 4.503..  Validation Accuracy: 0.025\n",
            "Epoch: 34/50..  Training Loss: 4.478..  Validation Loss: 4.502..  Validation Accuracy: 0.026\n",
            "Epoch: 34/50..  Training Loss: 4.515..  Validation Loss: 4.500..  Validation Accuracy: 0.026\n",
            "Epoch: 35/50..  Training Loss: 4.516..  Validation Loss: 4.499..  Validation Accuracy: 0.034\n",
            "Epoch: 35/50..  Training Loss: 4.512..  Validation Loss: 4.498..  Validation Accuracy: 0.035\n",
            "Epoch: 35/50..  Training Loss: 4.515..  Validation Loss: 4.501..  Validation Accuracy: 0.025\n",
            "Epoch: 36/50..  Training Loss: 4.503..  Validation Loss: 4.502..  Validation Accuracy: 0.034\n",
            "Epoch: 36/50..  Training Loss: 4.502..  Validation Loss: 4.501..  Validation Accuracy: 0.034\n",
            "Epoch: 37/50..  Training Loss: 4.511..  Validation Loss: 4.497..  Validation Accuracy: 0.026\n",
            "Epoch: 37/50..  Training Loss: 4.506..  Validation Loss: 4.501..  Validation Accuracy: 0.026\n",
            "Epoch: 37/50..  Training Loss: 4.502..  Validation Loss: 4.499..  Validation Accuracy: 0.027\n",
            "Epoch: 38/50..  Training Loss: 4.500..  Validation Loss: 4.498..  Validation Accuracy: 0.026\n",
            "Epoch: 38/50..  Training Loss: 4.510..  Validation Loss: 4.499..  Validation Accuracy: 0.034\n",
            "Epoch: 39/50..  Training Loss: 4.504..  Validation Loss: 4.500..  Validation Accuracy: 0.034\n",
            "Epoch: 39/50..  Training Loss: 4.505..  Validation Loss: 4.499..  Validation Accuracy: 0.026\n",
            "Epoch: 39/50..  Training Loss: 4.504..  Validation Loss: 4.499..  Validation Accuracy: 0.034\n",
            "Epoch: 40/50..  Training Loss: 4.508..  Validation Loss: 4.499..  Validation Accuracy: 0.034\n",
            "Epoch: 40/50..  Training Loss: 4.512..  Validation Loss: 4.502..  Validation Accuracy: 0.034\n",
            "Epoch: 40/50..  Training Loss: 4.505..  Validation Loss: 4.500..  Validation Accuracy: 0.035\n",
            "Epoch: 41/50..  Training Loss: 4.499..  Validation Loss: 4.499..  Validation Accuracy: 0.026\n",
            "Epoch: 41/50..  Training Loss: 4.504..  Validation Loss: 4.499..  Validation Accuracy: 0.034\n",
            "Epoch: 42/50..  Training Loss: 4.511..  Validation Loss: 4.498..  Validation Accuracy: 0.034\n",
            "Epoch: 42/50..  Training Loss: 4.526..  Validation Loss: 4.499..  Validation Accuracy: 0.035\n",
            "Epoch: 42/50..  Training Loss: 4.488..  Validation Loss: 4.500..  Validation Accuracy: 0.035\n",
            "Epoch: 43/50..  Training Loss: 4.507..  Validation Loss: 4.497..  Validation Accuracy: 0.026\n",
            "Epoch: 43/50..  Training Loss: 4.521..  Validation Loss: 4.498..  Validation Accuracy: 0.026\n",
            "Epoch: 44/50..  Training Loss: 4.487..  Validation Loss: 4.499..  Validation Accuracy: 0.034\n",
            "Epoch: 44/50..  Training Loss: 4.507..  Validation Loss: 4.501..  Validation Accuracy: 0.035\n",
            "Epoch: 44/50..  Training Loss: 4.497..  Validation Loss: 4.501..  Validation Accuracy: 0.034\n",
            "Epoch: 45/50..  Training Loss: 4.504..  Validation Loss: 4.497..  Validation Accuracy: 0.026\n",
            "Epoch: 45/50..  Training Loss: 4.496..  Validation Loss: 4.499..  Validation Accuracy: 0.026\n",
            "Epoch: 46/50..  Training Loss: 4.519..  Validation Loss: 4.498..  Validation Accuracy: 0.034\n",
            "Epoch: 46/50..  Training Loss: 4.502..  Validation Loss: 4.501..  Validation Accuracy: 0.035\n",
            "Epoch: 46/50..  Training Loss: 4.503..  Validation Loss: 4.499..  Validation Accuracy: 0.034\n",
            "Epoch: 47/50..  Training Loss: 4.507..  Validation Loss: 4.501..  Validation Accuracy: 0.026\n",
            "Epoch: 47/50..  Training Loss: 4.509..  Validation Loss: 4.502..  Validation Accuracy: 0.034\n",
            "Epoch: 47/50..  Training Loss: 4.583..  Validation Loss: 4.501..  Validation Accuracy: 0.026\n",
            "Epoch: 48/50..  Training Loss: 4.508..  Validation Loss: 4.496..  Validation Accuracy: 0.026\n",
            "Epoch: 48/50..  Training Loss: 4.499..  Validation Loss: 4.495..  Validation Accuracy: 0.034\n",
            "Epoch: 49/50..  Training Loss: 4.497..  Validation Loss: 4.499..  Validation Accuracy: 0.034\n",
            "Epoch: 49/50..  Training Loss: 4.507..  Validation Loss: 4.500..  Validation Accuracy: 0.034\n",
            "Epoch: 49/50..  Training Loss: 4.504..  Validation Loss: 4.497..  Validation Accuracy: 0.034\n",
            "Epoch: 50/50..  Training Loss: 4.507..  Validation Loss: 4.500..  Validation Accuracy: 0.026\n",
            "Epoch: 50/50..  Training Loss: 4.513..  Validation Loss: 4.500..  Validation Accuracy: 0.026\n"
          ],
          "name": "stdout"
        }
      ]
    },
    {
      "metadata": {
        "id": "QsT16iCZ7Q7A",
        "colab_type": "text"
      },
      "cell_type": "markdown",
      "source": [
        "# New Section"
      ]
    },
    {
      "metadata": {
        "id": "S4hJK-X9Ozei",
        "colab_type": "text"
      },
      "cell_type": "markdown",
      "source": [
        "## Save the checkpoint\n",
        "\n",
        "Now that your network is trained, save the model so you can load it later for making predictions. You probably want to save other things such as the mapping of classes to indices which you get from one of the image datasets: `image_datasets['train'].class_to_idx`. You can attach this to the model as an attribute which makes inference easier later on.\n",
        "\n",
        "```model.class_to_idx = image_datasets['train'].class_to_idx```\n",
        "\n",
        "Remember that you'll want to completely rebuild the model later so you can use it for inference. Make sure to include any information you need in the checkpoint. If you want to load the model and keep training, you'll want to save the number of epochs as well as the optimizer state, `optimizer.state_dict`. You'll likely want to use this trained model in the next part of the project, so best to save it now."
      ]
    },
    {
      "metadata": {
        "id": "3o_b3T-eOzei",
        "colab_type": "code",
        "colab": {}
      },
      "cell_type": "code",
      "source": [
        "# TODO: Save the checkpoint \n",
        " checkpoint = {'batch_size': 64,\n",
        "                      'valid_tansoforms': valid_transforms,\n",
        "                      'train_transforms': train_transforms,\n",
        "                      'model': model,\n",
        "                      'classifier': classifier,\n",
        "                      'criterion': criterion,\n",
        "                      'optimizer': optimizer.state_dict(),\n",
        "                      'state_dict': model.state_dict(),\n",
        "                      'class_to_idx': train_data.class_to_idx}\n",
        "  \n",
        "torch.save(checkpoint,'/content/drive/My Drive/pytorch final/model_checkpoint.pth')"
      ],
      "execution_count": 0,
      "outputs": []
    },
    {
      "metadata": {
        "id": "ZGjbHu3-Ozel",
        "colab_type": "text"
      },
      "cell_type": "markdown",
      "source": [
        "## Loading the checkpoint\n",
        "\n",
        "At this point it's good to write a function that can load a checkpoint and rebuild the model. That way you can come back to this project and keep working on it without having to retrain the network."
      ]
    },
    {
      "metadata": {
        "id": "29CapI0HOzel",
        "colab_type": "code",
        "colab": {}
      },
      "cell_type": "code",
      "source": [
        "# TODO: Write a function that loads a checkpoint and rebuilds the model\n",
        "def load_checkpoint(file_path):\n",
        "  \n",
        "  if torch.cuda.is_available():\n",
        "    checkpoint = torch.load(filepath)\n",
        "  else:\n",
        "    checkpoint= torch.load(filepath, map_loacation='cpu')\n",
        "    \n",
        "  model = checkpoint['model']\n",
        "  model.load_state_dict(checkpoint['state_dict'])\n",
        "  model.class_to_idx = checkpoint['train_data.class_to_idx']\n",
        "  model.classifier = checkpoint['classifier']\n",
        "  \n",
        "  form param in model.parameters():\n",
        "    param.requires_grad = False\n",
        "  \n",
        "  return model\n",
        "  \n",
        "  "
      ],
      "execution_count": 0,
      "outputs": []
    },
    {
      "metadata": {
        "id": "umLUaS8BOzep",
        "colab_type": "text"
      },
      "cell_type": "markdown",
      "source": [
        "# Inference for classification\n",
        "\n",
        "Now you'll write a function to use a trained network for inference. That is, you'll pass an image into the network and predict the class of the flower in the image. Write a function called `predict` that takes an image and a model, then returns the top $K$ most likely classes along with the probabilities. It should look like \n",
        "\n",
        "```python\n",
        "probs, classes = predict(image_path, model)\n",
        "print(probs)\n",
        "print(classes)\n",
        "> [ 0.01558163  0.01541934  0.01452626  0.01443549  0.01407339]\n",
        "> ['70', '3', '45', '62', '55']\n",
        "```\n",
        "\n",
        "First you'll need to handle processing the input image such that it can be used in your network. \n",
        "\n",
        "## Image Preprocessing\n",
        "\n",
        "You'll want to use `PIL` to load the image ([documentation](https://pillow.readthedocs.io/en/latest/reference/Image.html)). It's best to write a function that preprocesses the image so it can be used as input for the model. This function should process the images in the same manner used for training. \n",
        "\n",
        "First, resize the images where the shortest side is 256 pixels, keeping the aspect ratio. This can be done with the [`thumbnail`](http://pillow.readthedocs.io/en/3.1.x/reference/Image.html#PIL.Image.Image.thumbnail) or [`resize`](http://pillow.readthedocs.io/en/3.1.x/reference/Image.html#PIL.Image.Image.thumbnail) methods. Then you'll need to crop out the center 224x224 portion of the image.\n",
        "\n",
        "Color channels of images are typically encoded as integers 0-255, but the model expected floats 0-1. You'll need to convert the values. It's easiest with a Numpy array, which you can get from a PIL image like so `np_image = np.array(pil_image)`.\n",
        "\n",
        "As before, the network expects the images to be normalized in a specific way. For the means, it's `[0.485, 0.456, 0.406]` and for the standard deviations `[0.229, 0.224, 0.225]`. You'll want to subtract the means from each color channel, then divide by the standard deviation. \n",
        "\n",
        "And finally, PyTorch expects the color channel to be the first dimension but it's the third dimension in the PIL image and Numpy array. You can reorder dimensions using [`ndarray.transpose`](https://docs.scipy.org/doc/numpy-1.13.0/reference/generated/numpy.ndarray.transpose.html). The color channel needs to be first and retain the order of the other two dimensions."
      ]
    },
    {
      "metadata": {
        "id": "lFe0EM4TOzeq",
        "colab_type": "code",
        "colab": {}
      },
      "cell_type": "code",
      "source": [
        "from PIL import Image\n",
        "def load_image(img_path, max_size=256, shape=None):\n",
        "    ''' Load in and transform an image, making sure the image\n",
        "       is <= 400 pixels in the x-y dims.'''\n",
        "    \n",
        "    image = Image.open(img_path).convert('RGB')\n",
        "    \n",
        "    # large images will slow down processing\n",
        "    if max(image.size) > max_size:\n",
        "        size = max_size\n",
        "    else:\n",
        "        size = max(image.size)\n",
        "    \n",
        "    if shape is not None:\n",
        "        size = shape\n",
        "        \n",
        "    in_transform = transforms.Compose([\n",
        "                        transforms.Resize(size),\n",
        "                        transforms.CenterCrop(224),\n",
        "                        transforms.ToTensor(),\n",
        "                        transforms.Normalize((0.485, 0.456, 0.406), \n",
        "                                             (0.229, 0.224, 0.225))])\n",
        "\n",
        "    # discard the transparent, alpha channel (that's the :3) and add the batch dimension\n",
        "    image = in_transform(image)\n",
        "    \n",
        "    return image\n",
        "    \n"
      ],
      "execution_count": 0,
      "outputs": []
    },
    {
      "metadata": {
        "id": "JyTYukM30Zfo",
        "colab_type": "code",
        "colab": {}
      },
      "cell_type": "code",
      "source": [
        "loaded_image = load_image('/content/drive/My Drive/pytorch final/flower_data/valid/28/image_05267.jpg')"
      ],
      "execution_count": 0,
      "outputs": []
    },
    {
      "metadata": {
        "id": "ZzM-xy1mOzet",
        "colab_type": "text"
      },
      "cell_type": "markdown",
      "source": [
        "To check your work, the function below converts a PyTorch tensor and displays it in the notebook. If your `process_image` function works, running the output through this function should return the original image (except for the cropped out portions)."
      ]
    },
    {
      "metadata": {
        "id": "2DbZ3ALWOzeu",
        "colab_type": "code",
        "colab": {}
      },
      "cell_type": "code",
      "source": [
        "%matplotlib inline\n",
        "\n",
        "from PIL import Image\n",
        "import matplotlib.pyplot as plt\n",
        "def imshow(image, ax=None, title=None):\n",
        "    \"\"\"Imshow for Tensor.\"\"\"\n",
        "    if ax is None:\n",
        "        fig, ax = plt.subplots()\n",
        "    \n",
        "    # PyTorch tensors assume the color channel is the first dimension\n",
        "    # but matplotlib assumes is the third dimension\n",
        "    image = image.numpy().transpose((1, 2, 0))\n",
        "    \n",
        "    # Undo preprocessing\n",
        "    mean = np.array([0.485, 0.456, 0.406])\n",
        "    std = np.array([0.229, 0.224, 0.225])\n",
        "    image = std * image + mean\n",
        "    \n",
        "    # Image needs to be clipped between 0 and 1 or it looks like noise when displayed\n",
        "    image = np.clip(image, 0, 1)\n",
        "    \n",
        "    ax.imshow(image)\n",
        "    \n",
        "    return ax"
      ],
      "execution_count": 0,
      "outputs": []
    },
    {
      "metadata": {
        "id": "zaWylazo0_H2",
        "colab_type": "code",
        "outputId": "d64dee23-d9ee-488d-f400-b7dedc27660a",
        "colab": {
          "base_uri": "https://localhost:8080/",
          "height": 285
        }
      },
      "cell_type": "code",
      "source": [
        "imshow(loaded_image)"
      ],
      "execution_count": 0,
      "outputs": [
        {
          "output_type": "execute_result",
          "data": {
            "text/plain": [
              "<matplotlib.axes._subplots.AxesSubplot at 0x7fc2e39395f8>"
            ]
          },
          "metadata": {
            "tags": []
          },
          "execution_count": 25
        },
        {
          "output_type": "display_data",
          "data": {
            "image/png": "[encoded data removed]",
            "text/plain": [
              "<matplotlib.figure.Figure at 0x7fc2e395cd30>"
            ]
          },
          "metadata": {
            "tags": [],
            "image/png": {
              "width": 255,
              "height": 251
            }
          }
        }
      ]
    },
    {
      "metadata": {
        "id": "f8VPoT3EOzev",
        "colab_type": "text"
      },
      "cell_type": "markdown",
      "source": [
        "## Class Prediction\n",
        "\n",
        "Once you can get images in the correct format, it's time to write a function for making predictions with your model. A common practice is to predict the top 5 or so (usually called top-$K$) most probable classes. You'll want to calculate the class probabilities then find the $K$ largest values.\n",
        "\n",
        "To get the top $K$ largest values in a tensor use [`x.topk(k)`](http://pytorch.org/docs/master/torch.html#torch.topk). This method returns both the highest `k` probabilities and the indices of those probabilities corresponding to the classes. You need to convert from these indices to the actual class labels using `class_to_idx` which hopefully you added to the model or from an `ImageFolder` you used to load the data ([see here](#Save-the-checkpoint)). Make sure to invert the dictionary so you get a mapping from index to class as well.\n",
        "\n",
        "Again, this method should take a path to an image and a model checkpoint, then return the probabilities and classes.\n",
        "\n",
        "```python\n",
        "probs, classes = predict(image_path, model)\n",
        "print(probs)\n",
        "print(classes)\n",
        "> [ 0.01558163  0.01541934  0.01452626  0.01443549  0.01407339]\n",
        "> ['70', '3', '45', '62', '55']\n",
        "```"
      ]
    },
    {
      "metadata": {
        "id": "TeYNB8QfOzew",
        "colab_type": "code",
        "colab": {}
      },
      "cell_type": "code",
      "source": [
        "def predict(image_path, model, topk=5):\n",
        "    ''' Predict the class (or classes) of an image using a trained deep learning model.\n",
        "    '''\n",
        "    \n",
        "    # TODO: Implement the code to predict the class from an image file"
      ],
      "execution_count": 0,
      "outputs": []
    },
    {
      "metadata": {
        "id": "F-bdAll6Ozex",
        "colab_type": "text"
      },
      "cell_type": "markdown",
      "source": [
        "## Sanity Checking\n",
        "\n",
        "Now that you can use a trained model for predictions, check to make sure it makes sense. Even if the validation accuracy is high, it's always good to check that there aren't obvious bugs. Use `matplotlib` to plot the probabilities for the top 5 classes as a bar graph, along with the input image. It should look like this:\n",
        "\n",
        "<img src='assets/inference_example.png' width=300px>\n",
        "\n",
        "You can convert from the class integer encoding to actual flower names with the `cat_to_name.json` file (should have been loaded earlier in the notebook). To show a PyTorch tensor as an image, use the `imshow` function defined above."
      ]
    },
    {
      "metadata": {
        "id": "Lfzd9-XvOzey",
        "colab_type": "code",
        "colab": {}
      },
      "cell_type": "code",
      "source": [
        "# TODO: Display an image along with the top 5 classes"
      ],
      "execution_count": 0,
      "outputs": []
    }
  ]
}